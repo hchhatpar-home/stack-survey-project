{
 "cells": [
  {
   "cell_type": "code",
   "execution_count": 1,
   "metadata": {},
   "outputs": [],
   "source": [
    "# import all packages and set plots to be embedded inline\n",
    "import numpy as np\n",
    "import pandas as pd\n",
    "import seaborn as sb\n",
    "import matplotlib.pyplot as plt"
   ]
  },
  {
   "cell_type": "code",
   "execution_count": 2,
   "metadata": {},
   "outputs": [],
   "source": [
    "# Read survey results file\n",
    "survey_df=pd.read_csv('survey-results-public.csv',low_memory=False)\n",
    "#read the schema\n",
    "schema_df=pd.read_csv('survey-results-schema.csv')\n"
   ]
  },
  {
   "cell_type": "markdown",
   "metadata": {},
   "source": [
    "## Data Understanding"
   ]
  },
  {
   "cell_type": "code",
   "execution_count": 3,
   "metadata": {},
   "outputs": [
    {
     "data": {
      "text/html": [
       "<div>\n",
       "<style scoped>\n",
       "    .dataframe tbody tr th:only-of-type {\n",
       "        vertical-align: middle;\n",
       "    }\n",
       "\n",
       "    .dataframe tbody tr th {\n",
       "        vertical-align: top;\n",
       "    }\n",
       "\n",
       "    .dataframe thead th {\n",
       "        text-align: right;\n",
       "    }\n",
       "</style>\n",
       "<table border=\"1\" class=\"dataframe\">\n",
       "  <thead>\n",
       "    <tr style=\"text-align: right;\">\n",
       "      <th></th>\n",
       "      <th>Respondent</th>\n",
       "      <th>Professional</th>\n",
       "      <th>ProgramHobby</th>\n",
       "      <th>Country</th>\n",
       "      <th>University</th>\n",
       "      <th>EmploymentStatus</th>\n",
       "      <th>FormalEducation</th>\n",
       "      <th>MajorUndergrad</th>\n",
       "      <th>HomeRemote</th>\n",
       "      <th>CompanySize</th>\n",
       "      <th>...</th>\n",
       "      <th>StackOverflowMakeMoney</th>\n",
       "      <th>Gender</th>\n",
       "      <th>HighestEducationParents</th>\n",
       "      <th>Race</th>\n",
       "      <th>SurveyLong</th>\n",
       "      <th>QuestionsInteresting</th>\n",
       "      <th>QuestionsConfusing</th>\n",
       "      <th>InterestedAnswers</th>\n",
       "      <th>Salary</th>\n",
       "      <th>ExpectedSalary</th>\n",
       "    </tr>\n",
       "  </thead>\n",
       "  <tbody>\n",
       "    <tr>\n",
       "      <th>0</th>\n",
       "      <td>1</td>\n",
       "      <td>Student</td>\n",
       "      <td>Yes, both</td>\n",
       "      <td>United States</td>\n",
       "      <td>No</td>\n",
       "      <td>Not employed, and not looking for work</td>\n",
       "      <td>Secondary school</td>\n",
       "      <td>NaN</td>\n",
       "      <td>NaN</td>\n",
       "      <td>NaN</td>\n",
       "      <td>...</td>\n",
       "      <td>Strongly disagree</td>\n",
       "      <td>Male</td>\n",
       "      <td>High school</td>\n",
       "      <td>White or of European descent</td>\n",
       "      <td>Strongly disagree</td>\n",
       "      <td>Strongly agree</td>\n",
       "      <td>Disagree</td>\n",
       "      <td>Strongly agree</td>\n",
       "      <td>NaN</td>\n",
       "      <td>NaN</td>\n",
       "    </tr>\n",
       "    <tr>\n",
       "      <th>1</th>\n",
       "      <td>2</td>\n",
       "      <td>Student</td>\n",
       "      <td>Yes, both</td>\n",
       "      <td>United Kingdom</td>\n",
       "      <td>Yes, full-time</td>\n",
       "      <td>Employed part-time</td>\n",
       "      <td>Some college/university study without earning ...</td>\n",
       "      <td>Computer science or software engineering</td>\n",
       "      <td>More than half, but not all, the time</td>\n",
       "      <td>20 to 99 employees</td>\n",
       "      <td>...</td>\n",
       "      <td>Strongly disagree</td>\n",
       "      <td>Male</td>\n",
       "      <td>A master's degree</td>\n",
       "      <td>White or of European descent</td>\n",
       "      <td>Somewhat agree</td>\n",
       "      <td>Somewhat agree</td>\n",
       "      <td>Disagree</td>\n",
       "      <td>Strongly agree</td>\n",
       "      <td>NaN</td>\n",
       "      <td>37500.0</td>\n",
       "    </tr>\n",
       "    <tr>\n",
       "      <th>2</th>\n",
       "      <td>3</td>\n",
       "      <td>Professional developer</td>\n",
       "      <td>Yes, both</td>\n",
       "      <td>United Kingdom</td>\n",
       "      <td>No</td>\n",
       "      <td>Employed full-time</td>\n",
       "      <td>Bachelor's degree</td>\n",
       "      <td>Computer science or software engineering</td>\n",
       "      <td>Less than half the time, but at least one day ...</td>\n",
       "      <td>10,000 or more employees</td>\n",
       "      <td>...</td>\n",
       "      <td>Disagree</td>\n",
       "      <td>Male</td>\n",
       "      <td>A professional degree</td>\n",
       "      <td>White or of European descent</td>\n",
       "      <td>Somewhat agree</td>\n",
       "      <td>Agree</td>\n",
       "      <td>Disagree</td>\n",
       "      <td>Agree</td>\n",
       "      <td>113750.0</td>\n",
       "      <td>NaN</td>\n",
       "    </tr>\n",
       "    <tr>\n",
       "      <th>3</th>\n",
       "      <td>4</td>\n",
       "      <td>Professional non-developer who sometimes write...</td>\n",
       "      <td>Yes, both</td>\n",
       "      <td>United States</td>\n",
       "      <td>No</td>\n",
       "      <td>Employed full-time</td>\n",
       "      <td>Doctoral degree</td>\n",
       "      <td>A non-computer-focused engineering discipline</td>\n",
       "      <td>Less than half the time, but at least one day ...</td>\n",
       "      <td>10,000 or more employees</td>\n",
       "      <td>...</td>\n",
       "      <td>Disagree</td>\n",
       "      <td>Male</td>\n",
       "      <td>A doctoral degree</td>\n",
       "      <td>White or of European descent</td>\n",
       "      <td>Agree</td>\n",
       "      <td>Agree</td>\n",
       "      <td>Somewhat agree</td>\n",
       "      <td>Strongly agree</td>\n",
       "      <td>NaN</td>\n",
       "      <td>NaN</td>\n",
       "    </tr>\n",
       "    <tr>\n",
       "      <th>4</th>\n",
       "      <td>5</td>\n",
       "      <td>Professional developer</td>\n",
       "      <td>Yes, I program as a hobby</td>\n",
       "      <td>Switzerland</td>\n",
       "      <td>No</td>\n",
       "      <td>Employed full-time</td>\n",
       "      <td>Master's degree</td>\n",
       "      <td>Computer science or software engineering</td>\n",
       "      <td>Never</td>\n",
       "      <td>10 to 19 employees</td>\n",
       "      <td>...</td>\n",
       "      <td>NaN</td>\n",
       "      <td>NaN</td>\n",
       "      <td>NaN</td>\n",
       "      <td>NaN</td>\n",
       "      <td>NaN</td>\n",
       "      <td>NaN</td>\n",
       "      <td>NaN</td>\n",
       "      <td>NaN</td>\n",
       "      <td>NaN</td>\n",
       "      <td>NaN</td>\n",
       "    </tr>\n",
       "  </tbody>\n",
       "</table>\n",
       "<p>5 rows × 154 columns</p>\n",
       "</div>"
      ],
      "text/plain": [
       "   Respondent                                       Professional  \\\n",
       "0           1                                            Student   \n",
       "1           2                                            Student   \n",
       "2           3                             Professional developer   \n",
       "3           4  Professional non-developer who sometimes write...   \n",
       "4           5                             Professional developer   \n",
       "\n",
       "                ProgramHobby         Country      University  \\\n",
       "0                  Yes, both   United States              No   \n",
       "1                  Yes, both  United Kingdom  Yes, full-time   \n",
       "2                  Yes, both  United Kingdom              No   \n",
       "3                  Yes, both   United States              No   \n",
       "4  Yes, I program as a hobby     Switzerland              No   \n",
       "\n",
       "                         EmploymentStatus  \\\n",
       "0  Not employed, and not looking for work   \n",
       "1                      Employed part-time   \n",
       "2                      Employed full-time   \n",
       "3                      Employed full-time   \n",
       "4                      Employed full-time   \n",
       "\n",
       "                                     FormalEducation  \\\n",
       "0                                   Secondary school   \n",
       "1  Some college/university study without earning ...   \n",
       "2                                  Bachelor's degree   \n",
       "3                                    Doctoral degree   \n",
       "4                                    Master's degree   \n",
       "\n",
       "                                  MajorUndergrad  \\\n",
       "0                                            NaN   \n",
       "1       Computer science or software engineering   \n",
       "2       Computer science or software engineering   \n",
       "3  A non-computer-focused engineering discipline   \n",
       "4       Computer science or software engineering   \n",
       "\n",
       "                                          HomeRemote  \\\n",
       "0                                                NaN   \n",
       "1              More than half, but not all, the time   \n",
       "2  Less than half the time, but at least one day ...   \n",
       "3  Less than half the time, but at least one day ...   \n",
       "4                                              Never   \n",
       "\n",
       "                CompanySize  ... StackOverflowMakeMoney Gender  \\\n",
       "0                       NaN  ...      Strongly disagree   Male   \n",
       "1        20 to 99 employees  ...      Strongly disagree   Male   \n",
       "2  10,000 or more employees  ...               Disagree   Male   \n",
       "3  10,000 or more employees  ...               Disagree   Male   \n",
       "4        10 to 19 employees  ...                    NaN    NaN   \n",
       "\n",
       "  HighestEducationParents                          Race         SurveyLong  \\\n",
       "0             High school  White or of European descent  Strongly disagree   \n",
       "1       A master's degree  White or of European descent     Somewhat agree   \n",
       "2   A professional degree  White or of European descent     Somewhat agree   \n",
       "3       A doctoral degree  White or of European descent              Agree   \n",
       "4                     NaN                           NaN                NaN   \n",
       "\n",
       "  QuestionsInteresting QuestionsConfusing InterestedAnswers    Salary  \\\n",
       "0       Strongly agree           Disagree    Strongly agree       NaN   \n",
       "1       Somewhat agree           Disagree    Strongly agree       NaN   \n",
       "2                Agree           Disagree             Agree  113750.0   \n",
       "3                Agree     Somewhat agree    Strongly agree       NaN   \n",
       "4                  NaN                NaN               NaN       NaN   \n",
       "\n",
       "   ExpectedSalary  \n",
       "0             NaN  \n",
       "1         37500.0  \n",
       "2             NaN  \n",
       "3             NaN  \n",
       "4             NaN  \n",
       "\n",
       "[5 rows x 154 columns]"
      ]
     },
     "execution_count": 3,
     "metadata": {},
     "output_type": "execute_result"
    }
   ],
   "source": [
    "# View data\n",
    "survey_df.head()"
   ]
  },
  {
   "cell_type": "code",
   "execution_count": 4,
   "metadata": {},
   "outputs": [
    {
     "data": {
      "text/plain": [
       "51392"
      ]
     },
     "execution_count": 4,
     "metadata": {},
     "output_type": "execute_result"
    }
   ],
   "source": [
    "# view number of records\n",
    "survey_df.shape[0]"
   ]
  },
  {
   "cell_type": "code",
   "execution_count": 5,
   "metadata": {},
   "outputs": [
    {
     "data": {
      "text/plain": [
       "['Respondent',\n",
       " 'Professional',\n",
       " 'ProgramHobby',\n",
       " 'Country',\n",
       " 'University',\n",
       " 'EmploymentStatus',\n",
       " 'FormalEducation',\n",
       " 'MajorUndergrad',\n",
       " 'HomeRemote',\n",
       " 'CompanySize',\n",
       " 'CompanyType',\n",
       " 'YearsProgram',\n",
       " 'YearsCodedJob',\n",
       " 'YearsCodedJobPast',\n",
       " 'DeveloperType',\n",
       " 'WebDeveloperType',\n",
       " 'MobileDeveloperType',\n",
       " 'NonDeveloperType',\n",
       " 'CareerSatisfaction',\n",
       " 'JobSatisfaction',\n",
       " 'ExCoderReturn',\n",
       " 'ExCoderNotForMe',\n",
       " 'ExCoderBalance',\n",
       " 'ExCoder10Years',\n",
       " 'ExCoderBelonged',\n",
       " 'ExCoderSkills',\n",
       " 'ExCoderWillNotCode',\n",
       " 'ExCoderActive',\n",
       " 'PronounceGIF',\n",
       " 'ProblemSolving',\n",
       " 'BuildingThings',\n",
       " 'LearningNewTech',\n",
       " 'BoringDetails',\n",
       " 'JobSecurity',\n",
       " 'DiversityImportant',\n",
       " 'AnnoyingUI',\n",
       " 'FriendsDevelopers',\n",
       " 'RightWrongWay',\n",
       " 'UnderstandComputers',\n",
       " 'SeriousWork',\n",
       " 'InvestTimeTools',\n",
       " 'WorkPayCare',\n",
       " 'KinshipDevelopers',\n",
       " 'ChallengeMyself',\n",
       " 'CompetePeers',\n",
       " 'ChangeWorld',\n",
       " 'JobSeekingStatus',\n",
       " 'HoursPerWeek',\n",
       " 'LastNewJob',\n",
       " 'AssessJobIndustry',\n",
       " 'AssessJobRole',\n",
       " 'AssessJobExp',\n",
       " 'AssessJobDept',\n",
       " 'AssessJobTech',\n",
       " 'AssessJobProjects',\n",
       " 'AssessJobCompensation',\n",
       " 'AssessJobOffice',\n",
       " 'AssessJobCommute',\n",
       " 'AssessJobRemote',\n",
       " 'AssessJobLeaders',\n",
       " 'AssessJobProfDevel',\n",
       " 'AssessJobDiversity',\n",
       " 'AssessJobProduct',\n",
       " 'AssessJobFinances',\n",
       " 'ImportantBenefits',\n",
       " 'ClickyKeys',\n",
       " 'JobProfile',\n",
       " 'ResumePrompted',\n",
       " 'LearnedHiring',\n",
       " 'ImportantHiringAlgorithms',\n",
       " 'ImportantHiringTechExp',\n",
       " 'ImportantHiringCommunication',\n",
       " 'ImportantHiringOpenSource',\n",
       " 'ImportantHiringPMExp',\n",
       " 'ImportantHiringCompanies',\n",
       " 'ImportantHiringTitles',\n",
       " 'ImportantHiringEducation',\n",
       " 'ImportantHiringRep',\n",
       " 'ImportantHiringGettingThingsDone',\n",
       " 'Currency',\n",
       " 'Overpaid',\n",
       " 'TabsSpaces',\n",
       " 'EducationImportant',\n",
       " 'EducationTypes',\n",
       " 'SelfTaughtTypes',\n",
       " 'TimeAfterBootcamp',\n",
       " 'CousinEducation',\n",
       " 'WorkStart',\n",
       " 'HaveWorkedLanguage',\n",
       " 'WantWorkLanguage',\n",
       " 'HaveWorkedFramework',\n",
       " 'WantWorkFramework',\n",
       " 'HaveWorkedDatabase',\n",
       " 'WantWorkDatabase',\n",
       " 'HaveWorkedPlatform',\n",
       " 'WantWorkPlatform',\n",
       " 'IDE',\n",
       " 'AuditoryEnvironment',\n",
       " 'Methodology',\n",
       " 'VersionControl',\n",
       " 'CheckInCode',\n",
       " 'ShipIt',\n",
       " 'OtherPeoplesCode',\n",
       " 'ProjectManagement',\n",
       " 'EnjoyDebugging',\n",
       " 'InTheZone',\n",
       " 'DifficultCommunication',\n",
       " 'CollaborateRemote',\n",
       " 'MetricAssess',\n",
       " 'EquipmentSatisfiedMonitors',\n",
       " 'EquipmentSatisfiedCPU',\n",
       " 'EquipmentSatisfiedRAM',\n",
       " 'EquipmentSatisfiedStorage',\n",
       " 'EquipmentSatisfiedRW',\n",
       " 'InfluenceInternet',\n",
       " 'InfluenceWorkstation',\n",
       " 'InfluenceHardware',\n",
       " 'InfluenceServers',\n",
       " 'InfluenceTechStack',\n",
       " 'InfluenceDeptTech',\n",
       " 'InfluenceVizTools',\n",
       " 'InfluenceDatabase',\n",
       " 'InfluenceCloud',\n",
       " 'InfluenceConsultants',\n",
       " 'InfluenceRecruitment',\n",
       " 'InfluenceCommunication',\n",
       " 'StackOverflowDescribes',\n",
       " 'StackOverflowSatisfaction',\n",
       " 'StackOverflowDevices',\n",
       " 'StackOverflowFoundAnswer',\n",
       " 'StackOverflowCopiedCode',\n",
       " 'StackOverflowJobListing',\n",
       " 'StackOverflowCompanyPage',\n",
       " 'StackOverflowJobSearch',\n",
       " 'StackOverflowNewQuestion',\n",
       " 'StackOverflowAnswer',\n",
       " 'StackOverflowMetaChat',\n",
       " 'StackOverflowAdsRelevant',\n",
       " 'StackOverflowAdsDistracting',\n",
       " 'StackOverflowModeration',\n",
       " 'StackOverflowCommunity',\n",
       " 'StackOverflowHelpful',\n",
       " 'StackOverflowBetter',\n",
       " 'StackOverflowWhatDo',\n",
       " 'StackOverflowMakeMoney',\n",
       " 'Gender',\n",
       " 'HighestEducationParents',\n",
       " 'Race',\n",
       " 'SurveyLong',\n",
       " 'QuestionsInteresting',\n",
       " 'QuestionsConfusing',\n",
       " 'InterestedAnswers',\n",
       " 'Salary',\n",
       " 'ExpectedSalary']"
      ]
     },
     "execution_count": 5,
     "metadata": {},
     "output_type": "execute_result"
    }
   ],
   "source": [
    "# List the survey columns\n",
    "list(survey_df.columns)"
   ]
  },
  {
   "cell_type": "code",
   "execution_count": 6,
   "metadata": {},
   "outputs": [
    {
     "data": {
      "text/html": [
       "<div>\n",
       "<style scoped>\n",
       "    .dataframe tbody tr th:only-of-type {\n",
       "        vertical-align: middle;\n",
       "    }\n",
       "\n",
       "    .dataframe tbody tr th {\n",
       "        vertical-align: top;\n",
       "    }\n",
       "\n",
       "    .dataframe thead th {\n",
       "        text-align: right;\n",
       "    }\n",
       "</style>\n",
       "<table border=\"1\" class=\"dataframe\">\n",
       "  <thead>\n",
       "    <tr style=\"text-align: right;\">\n",
       "      <th></th>\n",
       "      <th>Column</th>\n",
       "      <th>Question</th>\n",
       "    </tr>\n",
       "  </thead>\n",
       "  <tbody>\n",
       "    <tr>\n",
       "      <th>0</th>\n",
       "      <td>Respondent</td>\n",
       "      <td>Respondent ID number</td>\n",
       "    </tr>\n",
       "    <tr>\n",
       "      <th>1</th>\n",
       "      <td>Professional</td>\n",
       "      <td>Which of the following best describes you?</td>\n",
       "    </tr>\n",
       "    <tr>\n",
       "      <th>2</th>\n",
       "      <td>ProgramHobby</td>\n",
       "      <td>Do you program as a hobby or contribute to ope...</td>\n",
       "    </tr>\n",
       "    <tr>\n",
       "      <th>3</th>\n",
       "      <td>Country</td>\n",
       "      <td>In which country do you currently live?</td>\n",
       "    </tr>\n",
       "    <tr>\n",
       "      <th>4</th>\n",
       "      <td>University</td>\n",
       "      <td>Are you currently enrolled in a formal, degree...</td>\n",
       "    </tr>\n",
       "    <tr>\n",
       "      <th>...</th>\n",
       "      <td>...</td>\n",
       "      <td>...</td>\n",
       "    </tr>\n",
       "    <tr>\n",
       "      <th>149</th>\n",
       "      <td>QuestionsInteresting</td>\n",
       "      <td>The questions were interesting</td>\n",
       "    </tr>\n",
       "    <tr>\n",
       "      <th>150</th>\n",
       "      <td>QuestionsConfusing</td>\n",
       "      <td>The questions were confusing</td>\n",
       "    </tr>\n",
       "    <tr>\n",
       "      <th>151</th>\n",
       "      <td>InterestedAnswers</td>\n",
       "      <td>I'm interested in learning how other developer...</td>\n",
       "    </tr>\n",
       "    <tr>\n",
       "      <th>152</th>\n",
       "      <td>Salary</td>\n",
       "      <td>What is your current annual base salary, befor...</td>\n",
       "    </tr>\n",
       "    <tr>\n",
       "      <th>153</th>\n",
       "      <td>ExpectedSalary</td>\n",
       "      <td>You said before that you are currently learnin...</td>\n",
       "    </tr>\n",
       "  </tbody>\n",
       "</table>\n",
       "<p>154 rows × 2 columns</p>\n",
       "</div>"
      ],
      "text/plain": [
       "                   Column                                           Question\n",
       "0              Respondent                               Respondent ID number\n",
       "1            Professional         Which of the following best describes you?\n",
       "2            ProgramHobby  Do you program as a hobby or contribute to ope...\n",
       "3                 Country            In which country do you currently live?\n",
       "4              University  Are you currently enrolled in a formal, degree...\n",
       "..                    ...                                                ...\n",
       "149  QuestionsInteresting                     The questions were interesting\n",
       "150    QuestionsConfusing                       The questions were confusing\n",
       "151     InterestedAnswers  I'm interested in learning how other developer...\n",
       "152                Salary  What is your current annual base salary, befor...\n",
       "153        ExpectedSalary  You said before that you are currently learnin...\n",
       "\n",
       "[154 rows x 2 columns]"
      ]
     },
     "execution_count": 6,
     "metadata": {},
     "output_type": "execute_result"
    }
   ],
   "source": [
    "# View the schema df\n",
    "schema_df"
   ]
  },
  {
   "cell_type": "code",
   "execution_count": 7,
   "metadata": {},
   "outputs": [
    {
     "data": {
      "text/plain": [
       "1065"
      ]
     },
     "execution_count": 7,
     "metadata": {},
     "output_type": "execute_result"
    }
   ],
   "source": [
    "# Deterine max Question length\n",
    "schema_df.Question.map(lambda x: len(x)).max()"
   ]
  },
  {
   "cell_type": "markdown",
   "metadata": {},
   "source": [
    "## Explore the data to find interesting questions"
   ]
  },
  {
   "cell_type": "code",
   "execution_count": 8,
   "metadata": {},
   "outputs": [],
   "source": [
    "# Create a function to look at survey questions by column\n",
    "def srvy_question(col):\n",
    "    '''Takes in column name and returns the question that corresponds to the columns values'''\n",
    "    #set max column width\n",
    "    pd.options.display.max_colwidth = 1065\n",
    "    # print question for Column\n",
    "    print(schema_df[schema_df['Column'] == col].Question)\n"
   ]
  },
  {
   "cell_type": "markdown",
   "metadata": {},
   "source": [
    "#### I am going to interate through survey questions and answers until I find three interesting questions."
   ]
  },
  {
   "cell_type": "code",
   "execution_count": 9,
   "metadata": {},
   "outputs": [
    {
     "name": "stdout",
     "output_type": "stream",
     "text": [
      "33    Job security is important to me\n",
      "Name: Question, dtype: object\n"
     ]
    }
   ],
   "source": [
    "# view question\n",
    "srvy_question('JobSecurity')"
   ]
  },
  {
   "cell_type": "code",
   "execution_count": 10,
   "metadata": {},
   "outputs": [
    {
     "data": {
      "text/plain": [
       "Agree                13035\n",
       "Somewhat agree        7862\n",
       "Strongly agree        7347\n",
       "Disagree              2408\n",
       "Strongly disagree      588\n",
       "Name: JobSecurity, dtype: int64"
      ]
     },
     "execution_count": 10,
     "metadata": {},
     "output_type": "execute_result"
    }
   ],
   "source": [
    "# View responses\n",
    "survey_df['JobSecurity'].value_counts()"
   ]
  },
  {
   "cell_type": "markdown",
   "metadata": {},
   "source": [
    "### Does the importance of job security vary by gender?"
   ]
  },
  {
   "cell_type": "code",
   "execution_count": 11,
   "metadata": {},
   "outputs": [
    {
     "name": "stdout",
     "output_type": "stream",
     "text": [
      "1    Which of the following best describes you?\n",
      "Name: Question, dtype: object\n"
     ]
    }
   ],
   "source": [
    "# view question\n",
    "srvy_question('Professional')"
   ]
  },
  {
   "cell_type": "code",
   "execution_count": 12,
   "metadata": {},
   "outputs": [
    {
     "data": {
      "text/plain": [
       "Professional developer                                  36131\n",
       "Student                                                  8224\n",
       "Professional non-developer who sometimes writes code     5140\n",
       "Used to be a professional developer                       983\n",
       "None of these                                             914\n",
       "Name: Professional, dtype: int64"
      ]
     },
     "execution_count": 12,
     "metadata": {},
     "output_type": "execute_result"
    }
   ],
   "source": [
    "# View responses\n",
    "survey_df['Professional'].value_counts()"
   ]
  },
  {
   "cell_type": "markdown",
   "metadata": {},
   "source": [
    "### What are the most common languages for non-developer types and how does that compare to languages used by professional developers?"
   ]
  },
  {
   "cell_type": "code",
   "execution_count": 13,
   "metadata": {},
   "outputs": [
    {
     "name": "stdout",
     "output_type": "stream",
     "text": [
      "8    How often do you work from home or remotely?\n",
      "Name: Question, dtype: object\n"
     ]
    }
   ],
   "source": [
    "# View question\n",
    "srvy_question('HomeRemote')"
   ]
  },
  {
   "cell_type": "code",
   "execution_count": 14,
   "metadata": {},
   "outputs": [
    {
     "data": {
      "text/plain": [
       "A few days each month                                      15454\n",
       "Never                                                      13975\n",
       "All or almost all the time (I'm full-time remote)           4905\n",
       "Less than half the time, but at least one day each week     4147\n",
       "More than half, but not all, the time                       1909\n",
       "It's complicated                                            1849\n",
       "About half the time                                         1769\n",
       "Name: HomeRemote, dtype: int64"
      ]
     },
     "execution_count": 14,
     "metadata": {},
     "output_type": "execute_result"
    }
   ],
   "source": [
    "# view responses\n",
    "survey_df['HomeRemote'].value_counts()"
   ]
  },
  {
   "cell_type": "markdown",
   "metadata": {},
   "source": [
    "### Is there a relationship between job satisfaction and working from home?  Does this vary by gender?"
   ]
  },
  {
   "cell_type": "code",
   "execution_count": 15,
   "metadata": {},
   "outputs": [
    {
     "name": "stdout",
     "output_type": "stream",
     "text": [
      "64    When it comes to compensation and benefits, other than base salary, which of the following are most important to you?\n",
      "Name: Question, dtype: object\n"
     ]
    }
   ],
   "source": [
    "# view question\n",
    "srvy_question('ImportantBenefits')"
   ]
  },
  {
   "cell_type": "code",
   "execution_count": 16,
   "metadata": {},
   "outputs": [
    {
     "data": {
      "text/plain": [
       "None of these                                                                                                    653\n",
       "Retirement; Vacation/days off; Health benefits; Expected work hours; Remote options                              363\n",
       "Vacation/days off; Equipment; Professional development sponsorship; Expected work hours; Remote options          324\n",
       "Vacation/days off; Health benefits; Equipment; Expected work hours; Remote options                               305\n",
       "Vacation/days off; Health benefits; Professional development sponsorship; Expected work hours; Remote options    249\n",
       "                                                                                                                ... \n",
       "Equipment; Education sponsorship; Remote options; Other                                                            1\n",
       "Annual bonus; Education sponsorship; Expected work hours; Meals                                                    1\n",
       "Professional development sponsorship; Child/elder care                                                             1\n",
       "Charitable match; Equipment; Private office; Professional development sponsorship; Education sponsorship           1\n",
       "Annual bonus; Professional development sponsorship; Education sponsorship; Long-term leave                         1\n",
       "Name: ImportantBenefits, Length: 3530, dtype: int64"
      ]
     },
     "execution_count": 16,
     "metadata": {},
     "output_type": "execute_result"
    }
   ],
   "source": [
    "# view responses\n",
    "survey_df['ImportantBenefits'].value_counts()"
   ]
  },
  {
   "cell_type": "markdown",
   "metadata": {},
   "source": [
    "### What are the most important benefits and do they vary by gender?"
   ]
  },
  {
   "cell_type": "markdown",
   "metadata": {},
   "source": [
    "## Prepare Data"
   ]
  },
  {
   "cell_type": "code",
   "execution_count": 17,
   "metadata": {},
   "outputs": [],
   "source": [
    "# Create a index of not null values\n",
    "# create a not null index for JobSecurity columnn so that we can exclude records where JobSecurity \n",
    "#  was not provided\n",
    "not_null=pd.notnull(survey_df[\"JobSecurity\"])\n",
    "\n",
    "# create male job security dataset\n",
    "MaleJobSecurity=survey_df[not_null].query('Gender == \"Male\"')[['Gender','JobSecurity']]\n",
    "# add a Count column to use for aggregate\n",
    "MaleJobSecurity['Count']=1\n",
    "# get count of males\n",
    "male_count=MaleJobSecurity.shape[0]\n",
    "MaleJobSecurity=MaleJobSecurity.groupby(['JobSecurity', 'Gender']).agg({'Count': 'sum'})\n",
    "MaleJobSecurity['Percent']=(100*MaleJobSecurity.Count)/male_count\n",
    "\n",
    "#Create job security dataset with females and then append males to it\n",
    "JobSecurity=survey_df[not_null].query('Gender == \"Female\"')[['Gender','JobSecurity']]\n",
    "JobSecurity['Count']=1\n",
    "female_count=JobSecurity.shape[0]\n",
    "JobSecurity=JobSecurity.groupby(['JobSecurity', 'Gender']).agg({'Count': 'sum'})\n",
    "JobSecurity['Percent']=(100*JobSecurity.Count)/female_count\n",
    "#Append male dataset\n",
    "JobSecurity=JobSecurity.append(MaleJobSecurity)\n",
    "#Reset index so that we can graph it later\n",
    "JobSecurity=JobSecurity.reset_index()"
   ]
  },
  {
   "cell_type": "code",
   "execution_count": 18,
   "metadata": {},
   "outputs": [
    {
     "data": {
      "text/html": [
       "<div>\n",
       "<style scoped>\n",
       "    .dataframe tbody tr th:only-of-type {\n",
       "        vertical-align: middle;\n",
       "    }\n",
       "\n",
       "    .dataframe tbody tr th {\n",
       "        vertical-align: top;\n",
       "    }\n",
       "\n",
       "    .dataframe thead th {\n",
       "        text-align: right;\n",
       "    }\n",
       "</style>\n",
       "<table border=\"1\" class=\"dataframe\">\n",
       "  <thead>\n",
       "    <tr style=\"text-align: right;\">\n",
       "      <th></th>\n",
       "      <th>JobSecurity</th>\n",
       "      <th>Gender</th>\n",
       "      <th>Count</th>\n",
       "      <th>Percent</th>\n",
       "    </tr>\n",
       "  </thead>\n",
       "  <tbody>\n",
       "    <tr>\n",
       "      <th>0</th>\n",
       "      <td>Agree</td>\n",
       "      <td>Female</td>\n",
       "      <td>855</td>\n",
       "      <td>43.667007</td>\n",
       "    </tr>\n",
       "    <tr>\n",
       "      <th>1</th>\n",
       "      <td>Disagree</td>\n",
       "      <td>Female</td>\n",
       "      <td>88</td>\n",
       "      <td>4.494382</td>\n",
       "    </tr>\n",
       "    <tr>\n",
       "      <th>2</th>\n",
       "      <td>Somewhat agree</td>\n",
       "      <td>Female</td>\n",
       "      <td>396</td>\n",
       "      <td>20.224719</td>\n",
       "    </tr>\n",
       "    <tr>\n",
       "      <th>3</th>\n",
       "      <td>Strongly agree</td>\n",
       "      <td>Female</td>\n",
       "      <td>602</td>\n",
       "      <td>30.745659</td>\n",
       "    </tr>\n",
       "    <tr>\n",
       "      <th>4</th>\n",
       "      <td>Strongly disagree</td>\n",
       "      <td>Female</td>\n",
       "      <td>17</td>\n",
       "      <td>0.868233</td>\n",
       "    </tr>\n",
       "    <tr>\n",
       "      <th>5</th>\n",
       "      <td>Agree</td>\n",
       "      <td>Male</td>\n",
       "      <td>9740</td>\n",
       "      <td>42.071617</td>\n",
       "    </tr>\n",
       "    <tr>\n",
       "      <th>6</th>\n",
       "      <td>Disagree</td>\n",
       "      <td>Male</td>\n",
       "      <td>1888</td>\n",
       "      <td>8.155155</td>\n",
       "    </tr>\n",
       "    <tr>\n",
       "      <th>7</th>\n",
       "      <td>Somewhat agree</td>\n",
       "      <td>Male</td>\n",
       "      <td>5981</td>\n",
       "      <td>25.834737</td>\n",
       "    </tr>\n",
       "    <tr>\n",
       "      <th>8</th>\n",
       "      <td>Strongly agree</td>\n",
       "      <td>Male</td>\n",
       "      <td>5118</td>\n",
       "      <td>22.107036</td>\n",
       "    </tr>\n",
       "    <tr>\n",
       "      <th>9</th>\n",
       "      <td>Strongly disagree</td>\n",
       "      <td>Male</td>\n",
       "      <td>424</td>\n",
       "      <td>1.831454</td>\n",
       "    </tr>\n",
       "  </tbody>\n",
       "</table>\n",
       "</div>"
      ],
      "text/plain": [
       "         JobSecurity  Gender  Count    Percent\n",
       "0              Agree  Female    855  43.667007\n",
       "1           Disagree  Female     88   4.494382\n",
       "2     Somewhat agree  Female    396  20.224719\n",
       "3     Strongly agree  Female    602  30.745659\n",
       "4  Strongly disagree  Female     17   0.868233\n",
       "5              Agree    Male   9740  42.071617\n",
       "6           Disagree    Male   1888   8.155155\n",
       "7     Somewhat agree    Male   5981  25.834737\n",
       "8     Strongly agree    Male   5118  22.107036\n",
       "9  Strongly disagree    Male    424   1.831454"
      ]
     },
     "execution_count": 18,
     "metadata": {},
     "output_type": "execute_result"
    }
   ],
   "source": [
    "JobSecurity"
   ]
  },
  {
   "cell_type": "code",
   "execution_count": 19,
   "metadata": {},
   "outputs": [
    {
     "data": {
      "text/plain": [
       "C#; JavaScript; SQL                                     1276\n",
       "JavaScript; PHP; SQL                                    1143\n",
       "Java                                                     913\n",
       "JavaScript                                               807\n",
       "JavaScript; PHP                                          662\n",
       "                                                        ... \n",
       "C; C++; Java; JavaScript; Lua; PHP; Ruby; SQL              1\n",
       "CoffeeScript; Haskell; Java; JavaScript; Objective-C       1\n",
       "C; Java; JavaScript; PHP; Python; Ruby; Scala; SQL         1\n",
       "C; C++; C#; JavaScript; SQL; TypeScript; VB.NET            1\n",
       "Assembly; C; C++; Erlang; Java; JavaScript; PHP; SQL       1\n",
       "Name: HaveWorkedLanguage, Length: 8438, dtype: int64"
      ]
     },
     "execution_count": 19,
     "metadata": {},
     "output_type": "execute_result"
    }
   ],
   "source": [
    "# See what language data looks like\n",
    "survey_df.HaveWorkedLanguage.value_counts()"
   ]
  },
  {
   "cell_type": "markdown",
   "metadata": {},
   "source": [
    "#### HaveWorkedLanguage column contains a list of values that will need to be flattened.  Once flattened, we can get counts by HaveWorkedLanguage"
   ]
  },
  {
   "cell_type": "code",
   "execution_count": 20,
   "metadata": {},
   "outputs": [],
   "source": [
    "# create function to flatten list of lists\n",
    "def flat_map(x):\n",
    "    '''Takes a column value x containing a list of values and flattens it into a column of single values'''\n",
    "    flat_list = []\n",
    "    for sublist in x:\n",
    "        for item in sublist:\n",
    "            flat_list.append(item)\n",
    "    return(flat_list)\n"
   ]
  },
  {
   "cell_type": "code",
   "execution_count": 21,
   "metadata": {},
   "outputs": [],
   "source": [
    "# Create df of languages for professional developers\n",
    "prof_lang_df=pd.DataFrame(flat_map(survey_df[pd.notnull(survey_df['HaveWorkedLanguage'])].query\\\n",
    "                                  ('Professional in (\"Professional developer\", \"Used to be a professional \\\n",
    "                                  developer\")')['HaveWorkedLanguage'].str.split(';')), columns=['Language'])\n"
   ]
  },
  {
   "cell_type": "code",
   "execution_count": 22,
   "metadata": {},
   "outputs": [],
   "source": [
    "# Create df of languages for non-professional developers\n",
    "non_prof_lang_df=pd.DataFrame(flat_map(survey_df[pd.notnull(survey_df['HaveWorkedLanguage'])].query\\\n",
    "                                  ('Professional not in (\"Professional developer\", \"Used to be a professional \\\n",
    "                                  developer\")')['HaveWorkedLanguage'].str.split(';')), columns=['Language'])\n"
   ]
  },
  {
   "cell_type": "code",
   "execution_count": 23,
   "metadata": {},
   "outputs": [
    {
     "data": {
      "text/html": [
       "<div>\n",
       "<style scoped>\n",
       "    .dataframe tbody tr th:only-of-type {\n",
       "        vertical-align: middle;\n",
       "    }\n",
       "\n",
       "    .dataframe tbody tr th {\n",
       "        vertical-align: top;\n",
       "    }\n",
       "\n",
       "    .dataframe thead th {\n",
       "        text-align: right;\n",
       "    }\n",
       "</style>\n",
       "<table border=\"1\" class=\"dataframe\">\n",
       "  <thead>\n",
       "    <tr style=\"text-align: right;\">\n",
       "      <th></th>\n",
       "      <th>HomeRemote</th>\n",
       "      <th>CareerSatisfaction</th>\n",
       "      <th>Gender</th>\n",
       "      <th>mean_ratio</th>\n",
       "    </tr>\n",
       "  </thead>\n",
       "  <tbody>\n",
       "    <tr>\n",
       "      <th>0</th>\n",
       "      <td>All or almost all the time (I'm full-time remote)</td>\n",
       "      <td>7.748168</td>\n",
       "      <td>Male</td>\n",
       "      <td>1.032192</td>\n",
       "    </tr>\n",
       "    <tr>\n",
       "      <th>1</th>\n",
       "      <td>Less than half the time, but at least one day each week</td>\n",
       "      <td>7.677432</td>\n",
       "      <td>Male</td>\n",
       "      <td>1.022769</td>\n",
       "    </tr>\n",
       "    <tr>\n",
       "      <th>2</th>\n",
       "      <td>About half the time</td>\n",
       "      <td>7.614689</td>\n",
       "      <td>Male</td>\n",
       "      <td>1.014411</td>\n",
       "    </tr>\n",
       "    <tr>\n",
       "      <th>3</th>\n",
       "      <td>A few days each month</td>\n",
       "      <td>7.537368</td>\n",
       "      <td>Male</td>\n",
       "      <td>1.004110</td>\n",
       "    </tr>\n",
       "    <tr>\n",
       "      <th>4</th>\n",
       "      <td>More than half, but not all, the time</td>\n",
       "      <td>7.491018</td>\n",
       "      <td>Male</td>\n",
       "      <td>0.997935</td>\n",
       "    </tr>\n",
       "    <tr>\n",
       "      <th>5</th>\n",
       "      <td>It's complicated</td>\n",
       "      <td>7.311934</td>\n",
       "      <td>Male</td>\n",
       "      <td>0.974078</td>\n",
       "    </tr>\n",
       "    <tr>\n",
       "      <th>6</th>\n",
       "      <td>Never</td>\n",
       "      <td>7.165002</td>\n",
       "      <td>Male</td>\n",
       "      <td>0.954504</td>\n",
       "    </tr>\n",
       "    <tr>\n",
       "      <th>7</th>\n",
       "      <td>Less than half the time, but at least one day each week</td>\n",
       "      <td>7.661765</td>\n",
       "      <td>Female</td>\n",
       "      <td>1.053544</td>\n",
       "    </tr>\n",
       "    <tr>\n",
       "      <th>8</th>\n",
       "      <td>It's complicated</td>\n",
       "      <td>7.522727</td>\n",
       "      <td>Female</td>\n",
       "      <td>1.034425</td>\n",
       "    </tr>\n",
       "    <tr>\n",
       "      <th>9</th>\n",
       "      <td>A few days each month</td>\n",
       "      <td>7.357583</td>\n",
       "      <td>Female</td>\n",
       "      <td>1.011717</td>\n",
       "    </tr>\n",
       "    <tr>\n",
       "      <th>10</th>\n",
       "      <td>About half the time</td>\n",
       "      <td>7.200000</td>\n",
       "      <td>Female</td>\n",
       "      <td>0.990048</td>\n",
       "    </tr>\n",
       "    <tr>\n",
       "      <th>11</th>\n",
       "      <td>All or almost all the time (I'm full-time remote)</td>\n",
       "      <td>7.085106</td>\n",
       "      <td>Female</td>\n",
       "      <td>0.974249</td>\n",
       "    </tr>\n",
       "    <tr>\n",
       "      <th>12</th>\n",
       "      <td>Never</td>\n",
       "      <td>7.047690</td>\n",
       "      <td>Female</td>\n",
       "      <td>0.969104</td>\n",
       "    </tr>\n",
       "    <tr>\n",
       "      <th>13</th>\n",
       "      <td>More than half, but not all, the time</td>\n",
       "      <td>7.031746</td>\n",
       "      <td>Female</td>\n",
       "      <td>0.966912</td>\n",
       "    </tr>\n",
       "  </tbody>\n",
       "</table>\n",
       "</div>"
      ],
      "text/plain": [
       "                                                 HomeRemote  \\\n",
       "0         All or almost all the time (I'm full-time remote)   \n",
       "1   Less than half the time, but at least one day each week   \n",
       "2                                       About half the time   \n",
       "3                                     A few days each month   \n",
       "4                     More than half, but not all, the time   \n",
       "5                                          It's complicated   \n",
       "6                                                     Never   \n",
       "7   Less than half the time, but at least one day each week   \n",
       "8                                          It's complicated   \n",
       "9                                     A few days each month   \n",
       "10                                      About half the time   \n",
       "11        All or almost all the time (I'm full-time remote)   \n",
       "12                                                    Never   \n",
       "13                    More than half, but not all, the time   \n",
       "\n",
       "    CareerSatisfaction  Gender  mean_ratio  \n",
       "0             7.748168    Male    1.032192  \n",
       "1             7.677432    Male    1.022769  \n",
       "2             7.614689    Male    1.014411  \n",
       "3             7.537368    Male    1.004110  \n",
       "4             7.491018    Male    0.997935  \n",
       "5             7.311934    Male    0.974078  \n",
       "6             7.165002    Male    0.954504  \n",
       "7             7.661765  Female    1.053544  \n",
       "8             7.522727  Female    1.034425  \n",
       "9             7.357583  Female    1.011717  \n",
       "10            7.200000  Female    0.990048  \n",
       "11            7.085106  Female    0.974249  \n",
       "12            7.047690  Female    0.969104  \n",
       "13            7.031746  Female    0.966912  "
      ]
     },
     "execution_count": 23,
     "metadata": {},
     "output_type": "execute_result"
    }
   ],
   "source": [
    "# Get mean satisfaction for each Gender grouped by HomeRemote\n",
    "male_satisfaction=survey_df.query('Gender == \"Male\"').groupby('HomeRemote').agg\\\n",
    "    ({'CareerSatisfaction':'mean'}).sort_values(['CareerSatisfaction'], ascending=False)\n",
    "# Add Gender attribute\n",
    "male_satisfaction['Gender']=\"Male\"\n",
    "# Add a mean ratio score so that we can compare men and women\n",
    "male_satisfaction['mean_ratio']=male_satisfaction['CareerSatisfaction']/male_satisfaction.CareerSatisfaction.mean()\n",
    "\n",
    "#Create Female dataset\n",
    "female_satisfaction=survey_df.query('Gender == \"Female\"').groupby('HomeRemote').agg\\\n",
    "    ({'CareerSatisfaction':'mean'}).sort_values(['CareerSatisfaction'], ascending=False)\n",
    "# Add Gender attribute\n",
    "female_satisfaction['Gender']=\"Female\"\n",
    "# Add a mean ratio score so that we can compare men and women\n",
    "female_satisfaction['mean_ratio']=female_satisfaction['CareerSatisfaction']/female_satisfaction.CareerSatisfaction.mean()\n",
    "#Create combined career satisfaction dataset\n",
    "Career_Satisfaction=male_satisfaction.append(female_satisfaction).reset_index()\n",
    "# Validate\n",
    "Career_Satisfaction"
   ]
  },
  {
   "cell_type": "code",
   "execution_count": 24,
   "metadata": {},
   "outputs": [
    {
     "data": {
      "text/plain": [
       "Male      31589\n",
       "Female     2600\n",
       "Name: Gender, dtype: int64"
      ]
     },
     "execution_count": 24,
     "metadata": {},
     "output_type": "execute_result"
    }
   ],
   "source": [
    "# View counts by gender\n",
    "survey_df.query('Gender in (\"Male\",\"Female\")').Gender.value_counts()"
   ]
  },
  {
   "cell_type": "code",
   "execution_count": 25,
   "metadata": {},
   "outputs": [],
   "source": [
    "# create df with important benefits selected by Men\n",
    "male_imp_df=pd.DataFrame(flat_map(survey_df[pd.notnull(survey_df['ImportantBenefits'])].query\\\n",
    "                            ('Gender == \"Male\"')['ImportantBenefits'].str.split(';')), columns=['Benefits'])\n"
   ]
  },
  {
   "cell_type": "code",
   "execution_count": 26,
   "metadata": {},
   "outputs": [],
   "source": [
    "# create df with important benefits selected by women\n",
    "female_imp_df=pd.DataFrame(flat_map(survey_df[pd.notnull(survey_df['ImportantBenefits'])].query\\\n",
    "                            ('Gender == \"Female\"')['ImportantBenefits'].str.split(';')), columns=['Benefits'])\n"
   ]
  },
  {
   "cell_type": "markdown",
   "metadata": {},
   "source": [
    "## Evaluate the Results"
   ]
  },
  {
   "cell_type": "code",
   "execution_count": 27,
   "metadata": {},
   "outputs": [],
   "source": [
    "### Does the importance of job security vary by gender?"
   ]
  },
  {
   "cell_type": "code",
   "execution_count": 28,
   "metadata": {},
   "outputs": [
    {
     "data": {
      "image/png": "[encoded data removed]",
      "text/plain": [
       "<Figure size 432x288 with 1 Axes>"
      ]
     },
     "metadata": {
      "needs_background": "light"
     },
     "output_type": "display_data"
    }
   ],
   "source": [
    "# Plot JobSecurity\n",
    "ax = sb.barplot(x=\"JobSecurity\", y=\"Percent\", hue=\"Gender\", data=JobSecurity, order=[\"Strongly agree\",\"Agree\",\"Somewhat agree\",\"Disagree\",\"Strongly disagree\"])"
   ]
  },
  {
   "cell_type": "markdown",
   "metadata": {},
   "source": [
    "* Job Security is a little more important to females than men, but the difference is not very large."
   ]
  },
  {
   "cell_type": "markdown",
   "metadata": {},
   "source": [
    "#### What are the most common languages for non-developer types and how does that compare to languages used by professional developers?"
   ]
  },
  {
   "cell_type": "code",
   "execution_count": 29,
   "metadata": {},
   "outputs": [
    {
     "data": {
      "text/plain": [
       "JavaScript    18421\n",
       "SQL           14836\n",
       "Java          10586\n",
       "C#            10129\n",
       "Python         7613\n",
       "Name: Language, dtype: int64"
      ]
     },
     "execution_count": 29,
     "metadata": {},
     "output_type": "execute_result"
    }
   ],
   "source": [
    "# View top5 programming languages\n",
    "prof_lang_df.Language.str.lstrip().value_counts().head(5)\n"
   ]
  },
  {
   "cell_type": "code",
   "execution_count": 30,
   "metadata": {},
   "outputs": [
    {
     "data": {
      "text/plain": [
       "JavaScript    4454\n",
       "Python        4091\n",
       "Java          3938\n",
       "SQL           3918\n",
       "C++           2829\n",
       "Name: Language, dtype: int64"
      ]
     },
     "execution_count": 30,
     "metadata": {},
     "output_type": "execute_result"
    }
   ],
   "source": [
    "# View top5 programming languages\n",
    "non_prof_lang_df.Language.str.lstrip().value_counts().head(5)"
   ]
  },
  {
   "cell_type": "markdown",
   "metadata": {},
   "source": [
    "* Javascript is most commonly used among professional and non-professional developers.  SQL is number two among professional developers, but number four for non-professional developers."
   ]
  },
  {
   "cell_type": "markdown",
   "metadata": {},
   "source": [
    "#### Is there a relationship between job satisfaction and working from home?  Does this vary by gender?"
   ]
  },
  {
   "cell_type": "markdown",
   "metadata": {},
   "source": [
    "#### Male Satisfaction"
   ]
  },
  {
   "cell_type": "code",
   "execution_count": 31,
   "metadata": {},
   "outputs": [
    {
     "data": {
      "text/plain": [
       "7.50651590473568"
      ]
     },
     "execution_count": 31,
     "metadata": {},
     "output_type": "execute_result"
    }
   ],
   "source": [
    "#Print career statifaction average rating\n",
    "male_satisfaction.CareerSatisfaction.mean()"
   ]
  },
  {
   "cell_type": "code",
   "execution_count": 32,
   "metadata": {},
   "outputs": [
    {
     "data": {
      "text/html": [
       "<div>\n",
       "<style scoped>\n",
       "    .dataframe tbody tr th:only-of-type {\n",
       "        vertical-align: middle;\n",
       "    }\n",
       "\n",
       "    .dataframe tbody tr th {\n",
       "        vertical-align: top;\n",
       "    }\n",
       "\n",
       "    .dataframe thead th {\n",
       "        text-align: right;\n",
       "    }\n",
       "</style>\n",
       "<table border=\"1\" class=\"dataframe\">\n",
       "  <thead>\n",
       "    <tr style=\"text-align: right;\">\n",
       "      <th></th>\n",
       "      <th>CareerSatisfaction</th>\n",
       "      <th>Gender</th>\n",
       "      <th>mean_ratio</th>\n",
       "    </tr>\n",
       "    <tr>\n",
       "      <th>HomeRemote</th>\n",
       "      <th></th>\n",
       "      <th></th>\n",
       "      <th></th>\n",
       "    </tr>\n",
       "  </thead>\n",
       "  <tbody>\n",
       "    <tr>\n",
       "      <th>All or almost all the time (I'm full-time remote)</th>\n",
       "      <td>7.748168</td>\n",
       "      <td>Male</td>\n",
       "      <td>1.032192</td>\n",
       "    </tr>\n",
       "    <tr>\n",
       "      <th>Less than half the time, but at least one day each week</th>\n",
       "      <td>7.677432</td>\n",
       "      <td>Male</td>\n",
       "      <td>1.022769</td>\n",
       "    </tr>\n",
       "    <tr>\n",
       "      <th>About half the time</th>\n",
       "      <td>7.614689</td>\n",
       "      <td>Male</td>\n",
       "      <td>1.014411</td>\n",
       "    </tr>\n",
       "    <tr>\n",
       "      <th>A few days each month</th>\n",
       "      <td>7.537368</td>\n",
       "      <td>Male</td>\n",
       "      <td>1.004110</td>\n",
       "    </tr>\n",
       "    <tr>\n",
       "      <th>More than half, but not all, the time</th>\n",
       "      <td>7.491018</td>\n",
       "      <td>Male</td>\n",
       "      <td>0.997935</td>\n",
       "    </tr>\n",
       "    <tr>\n",
       "      <th>It's complicated</th>\n",
       "      <td>7.311934</td>\n",
       "      <td>Male</td>\n",
       "      <td>0.974078</td>\n",
       "    </tr>\n",
       "    <tr>\n",
       "      <th>Never</th>\n",
       "      <td>7.165002</td>\n",
       "      <td>Male</td>\n",
       "      <td>0.954504</td>\n",
       "    </tr>\n",
       "  </tbody>\n",
       "</table>\n",
       "</div>"
      ],
      "text/plain": [
       "                                                         CareerSatisfaction  \\\n",
       "HomeRemote                                                                    \n",
       "All or almost all the time (I'm full-time remote)                  7.748168   \n",
       "Less than half the time, but at least one day each week            7.677432   \n",
       "About half the time                                                7.614689   \n",
       "A few days each month                                              7.537368   \n",
       "More than half, but not all, the time                              7.491018   \n",
       "It's complicated                                                   7.311934   \n",
       "Never                                                              7.165002   \n",
       "\n",
       "                                                        Gender  mean_ratio  \n",
       "HomeRemote                                                                  \n",
       "All or almost all the time (I'm full-time remote)         Male    1.032192  \n",
       "Less than half the time, but at least one day each week   Male    1.022769  \n",
       "About half the time                                       Male    1.014411  \n",
       "A few days each month                                     Male    1.004110  \n",
       "More than half, but not all, the time                     Male    0.997935  \n",
       "It's complicated                                          Male    0.974078  \n",
       "Never                                                     Male    0.954504  "
      ]
     },
     "execution_count": 32,
     "metadata": {},
     "output_type": "execute_result"
    }
   ],
   "source": [
    "#Print Male statifaction\n",
    "male_satisfaction"
   ]
  },
  {
   "cell_type": "markdown",
   "metadata": {},
   "source": [
    "#### Female Satisfaction"
   ]
  },
  {
   "cell_type": "code",
   "execution_count": 33,
   "metadata": {},
   "outputs": [
    {
     "data": {
      "text/plain": [
       "7.272373948402435"
      ]
     },
     "execution_count": 33,
     "metadata": {},
     "output_type": "execute_result"
    }
   ],
   "source": [
    "#Print career statifaction average rating\n",
    "female_satisfaction.CareerSatisfaction.mean()"
   ]
  },
  {
   "cell_type": "code",
   "execution_count": 34,
   "metadata": {},
   "outputs": [
    {
     "data": {
      "text/html": [
       "<div>\n",
       "<style scoped>\n",
       "    .dataframe tbody tr th:only-of-type {\n",
       "        vertical-align: middle;\n",
       "    }\n",
       "\n",
       "    .dataframe tbody tr th {\n",
       "        vertical-align: top;\n",
       "    }\n",
       "\n",
       "    .dataframe thead th {\n",
       "        text-align: right;\n",
       "    }\n",
       "</style>\n",
       "<table border=\"1\" class=\"dataframe\">\n",
       "  <thead>\n",
       "    <tr style=\"text-align: right;\">\n",
       "      <th></th>\n",
       "      <th>CareerSatisfaction</th>\n",
       "      <th>Gender</th>\n",
       "      <th>mean_ratio</th>\n",
       "    </tr>\n",
       "    <tr>\n",
       "      <th>HomeRemote</th>\n",
       "      <th></th>\n",
       "      <th></th>\n",
       "      <th></th>\n",
       "    </tr>\n",
       "  </thead>\n",
       "  <tbody>\n",
       "    <tr>\n",
       "      <th>Less than half the time, but at least one day each week</th>\n",
       "      <td>7.661765</td>\n",
       "      <td>Female</td>\n",
       "      <td>1.053544</td>\n",
       "    </tr>\n",
       "    <tr>\n",
       "      <th>It's complicated</th>\n",
       "      <td>7.522727</td>\n",
       "      <td>Female</td>\n",
       "      <td>1.034425</td>\n",
       "    </tr>\n",
       "    <tr>\n",
       "      <th>A few days each month</th>\n",
       "      <td>7.357583</td>\n",
       "      <td>Female</td>\n",
       "      <td>1.011717</td>\n",
       "    </tr>\n",
       "    <tr>\n",
       "      <th>About half the time</th>\n",
       "      <td>7.200000</td>\n",
       "      <td>Female</td>\n",
       "      <td>0.990048</td>\n",
       "    </tr>\n",
       "    <tr>\n",
       "      <th>All or almost all the time (I'm full-time remote)</th>\n",
       "      <td>7.085106</td>\n",
       "      <td>Female</td>\n",
       "      <td>0.974249</td>\n",
       "    </tr>\n",
       "    <tr>\n",
       "      <th>Never</th>\n",
       "      <td>7.047690</td>\n",
       "      <td>Female</td>\n",
       "      <td>0.969104</td>\n",
       "    </tr>\n",
       "    <tr>\n",
       "      <th>More than half, but not all, the time</th>\n",
       "      <td>7.031746</td>\n",
       "      <td>Female</td>\n",
       "      <td>0.966912</td>\n",
       "    </tr>\n",
       "  </tbody>\n",
       "</table>\n",
       "</div>"
      ],
      "text/plain": [
       "                                                         CareerSatisfaction  \\\n",
       "HomeRemote                                                                    \n",
       "Less than half the time, but at least one day each week            7.661765   \n",
       "It's complicated                                                   7.522727   \n",
       "A few days each month                                              7.357583   \n",
       "About half the time                                                7.200000   \n",
       "All or almost all the time (I'm full-time remote)                  7.085106   \n",
       "Never                                                              7.047690   \n",
       "More than half, but not all, the time                              7.031746   \n",
       "\n",
       "                                                         Gender  mean_ratio  \n",
       "HomeRemote                                                                   \n",
       "Less than half the time, but at least one day each week  Female    1.053544  \n",
       "It's complicated                                         Female    1.034425  \n",
       "A few days each month                                    Female    1.011717  \n",
       "About half the time                                      Female    0.990048  \n",
       "All or almost all the time (I'm full-time remote)        Female    0.974249  \n",
       "Never                                                    Female    0.969104  \n",
       "More than half, but not all, the time                    Female    0.966912  "
      ]
     },
     "execution_count": 34,
     "metadata": {},
     "output_type": "execute_result"
    }
   ],
   "source": [
    "#Print Female statifaction\n",
    "female_satisfaction"
   ]
  },
  {
   "cell_type": "code",
   "execution_count": 35,
   "metadata": {},
   "outputs": [
    {
     "data": {
      "text/plain": [
       "Text(0.5, 0, 'Mean Score/Overall Mean Score')"
      ]
     },
     "execution_count": 35,
     "metadata": {},
     "output_type": "execute_result"
    },
    {
     "data": {
      "image/png": "[encoded data removed]",
      "text/plain": [
       "<Figure size 432x288 with 1 Axes>"
      ]
     },
     "metadata": {
      "needs_background": "light"
     },
     "output_type": "display_data"
    }
   ],
   "source": [
    "# Create plot order list\n",
    "plot_order=[\"All or almost all the time (I'm full-time remote)\"\n",
    "           ,\"More than half, but not all, the time\"\n",
    "           ,\"About half the time\"\n",
    "           ,\"Less than half the time, but at least one day each week\"\n",
    "           ,\"A few days each month\"\n",
    "           ,\"It's complicated\"\n",
    "           ,\"Never\"]\n",
    "# Plot career_satisfaction by gender\n",
    "ax = sb.barplot(y=\"HomeRemote\", x=\"mean_ratio\", hue=\"Gender\", data=Career_Satisfaction)\n",
    "# Set x limit\n",
    "ax.set_xlim(.9,1.1)\n",
    "# Set X label\n",
    "plt.xlabel(\"Mean Score/Overall Mean Score\")"
   ]
  },
  {
   "cell_type": "markdown",
   "metadata": {},
   "source": [
    "#### Differences between Male and Female are interesting\n",
    "* All or almost all the time (I'm full-time remote) showed higest career satisfaction among males.\n",
    "* All or almost all the time (I'm full-time remote) was on the bottom half of career satisfaction among females\n",
    "* Graph is not as compelling as the tables"
   ]
  },
  {
   "cell_type": "markdown",
   "metadata": {},
   "source": [
    "#### What are the most important benefits and do they vary by gender?"
   ]
  },
  {
   "cell_type": "code",
   "execution_count": 36,
   "metadata": {},
   "outputs": [
    {
     "data": {
      "text/plain": [
       "Vacation/days off    13495\n",
       "Remote options       12688\n",
       "Health benefits      10885\n",
       "Name: Benefits, dtype: int64"
      ]
     },
     "execution_count": 36,
     "metadata": {},
     "output_type": "execute_result"
    }
   ],
   "source": [
    "# view top 3 benefits selected by men\n",
    "male_imp_df.Benefits.str.lstrip().value_counts().head(3)"
   ]
  },
  {
   "cell_type": "code",
   "execution_count": 37,
   "metadata": {},
   "outputs": [
    {
     "data": {
      "text/plain": [
       "Vacation/days off    1330\n",
       "Remote options       1121\n",
       "Health benefits      1098\n",
       "Name: Benefits, dtype: int64"
      ]
     },
     "execution_count": 37,
     "metadata": {},
     "output_type": "execute_result"
    }
   ],
   "source": [
    "#view top 3 benefits selected by women\n",
    "female_imp_df.Benefits.str.lstrip().value_counts().head(3)"
   ]
  },
  {
   "cell_type": "markdown",
   "metadata": {},
   "source": [
    "* No difference between which benefits important to men compared to what is important to women."
   ]
  },
  {
   "cell_type": "markdown",
   "metadata": {},
   "source": [
    "### Conclusion\n",
    "* Job Security is a little more important to females than men, but the difference is not very large.\n",
    "* Javascript is most commonly used among professional and non-professional developers.  SQL is number two among professional developers, but number four for non-professional developers.\n",
    "* All or almost all the time (I'm full-time remote) showed higest career satisfaction among males.\n",
    "* All or almost all the time (I'm full-time remote) was on the bottom half of career satisfaction among females\n",
    "* No difference between which benefits important to men compared to what is important to women.                              "
   ]
  }
 ],
 "metadata": {
  "kernelspec": {
   "display_name": "Python 3",
   "language": "python",
   "name": "python3"
  },
  "language_info": {
   "codemirror_mode": {
    "name": "ipython",
    "version": 3
   },
   "file_extension": ".py",
   "mimetype": "text/x-python",
   "name": "python",
   "nbconvert_exporter": "python",
   "pygments_lexer": "ipython3",
   "version": "3.8.2"
  }
 },
 "nbformat": 4,
 "nbformat_minor": 4
}
